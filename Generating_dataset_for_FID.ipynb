{
 "cells": [
  {
   "cell_type": "markdown",
   "id": "268d7f95",
   "metadata": {},
   "source": [
    "To calculate FID scores for our experiments, we will generate a synthetic dataset using each version of the trained generator. The size of the generated dataset will match that of the original Monet painting dataset for distribution comparison."
   ]
  },
  {
   "cell_type": "code",
   "execution_count": 1,
   "id": "efd12bcd",
   "metadata": {},
   "outputs": [],
   "source": [
    "# Imports\n",
    "import os\n",
    "import torch\n",
    "from torchvision import transforms\n",
    "from torchvision.utils import save_image\n",
    "from PIL import Image\n",
    "from tqdm import tqdm"
   ]
  },
  {
   "cell_type": "code",
   "execution_count": 2,
   "id": "f4489268",
   "metadata": {},
   "outputs": [],
   "source": [
    "# Generator class\n",
    "import torch.nn as nn\n",
    "\n",
    "class ResBlock(nn.Module):\n",
    "    def __init__(self, channels):\n",
    "        super(ResBlock, self).__init__()\n",
    "        self.block = nn.Sequential(\n",
    "            nn.Conv2d(channels, channels, kernel_size=3, padding=1),\n",
    "            nn.InstanceNorm2d(channels),\n",
    "            nn.ReLU(inplace=True),\n",
    "            nn.Conv2d(channels, channels, kernel_size=3, padding=1),\n",
    "            nn.InstanceNorm2d(channels),\n",
    "        )\n",
    "\n",
    "    def forward(self, x):\n",
    "        return x + self.block(x)\n",
    "\n",
    "class Generator(nn.Module):\n",
    "    def __init__(self):\n",
    "        super(Generator, self).__init__()\n",
    "        \n",
    "        # Encoder\n",
    "        self.encoder = nn.Sequential(\n",
    "            nn.ReflectionPad2d(3),\n",
    "            nn.Conv2d(3, 64, kernel_size=7, stride=1, padding=0),\n",
    "            nn.InstanceNorm2d(64),\n",
    "            nn.ReLU(inplace=True),\n",
    "\n",
    "            nn.Conv2d(64, 128, kernel_size=3, stride=2, padding=1),\n",
    "            nn.InstanceNorm2d(128),\n",
    "            nn.ReLU(inplace=True),\n",
    "            \n",
    "            nn.Conv2d(128, 256, kernel_size=3, stride=2, padding=1),\n",
    "            nn.InstanceNorm2d(256),\n",
    "            nn.ReLU(inplace=True),\n",
    "        )\n",
    "\n",
    "        # ResNet blocks\n",
    "        self.resnet_blocks = nn.Sequential(*[ResBlock(256) for _ in range(9)])\n",
    "\n",
    "        # Decoder\n",
    "        self.decoder = nn.Sequential(\n",
    "            nn.ConvTranspose2d(256, 128, kernel_size=3, stride=2, padding=1, output_padding=1),\n",
    "            nn.InstanceNorm2d(128),\n",
    "            nn.ReLU(inplace=True),\n",
    "\n",
    "            nn.ConvTranspose2d(128, 64, kernel_size=3, stride=2, padding=1, output_padding=1),\n",
    "            nn.InstanceNorm2d(64),\n",
    "            nn.ReLU(inplace=True),\n",
    "\n",
    "            nn.ReflectionPad2d(3),\n",
    "            nn.Conv2d(64, 3, kernel_size=7, stride=1, padding=0),\n",
    "            nn.Tanh()\n",
    "        )\n",
    "\n",
    "    def forward(self, x):\n",
    "        x = self.encoder(x)\n",
    "        x = self.resnet_blocks(x)\n",
    "        x = self.decoder(x)\n",
    "        return x\n"
   ]
  },
  {
   "cell_type": "code",
   "execution_count": 3,
   "id": "837eefb0",
   "metadata": {},
   "outputs": [],
   "source": [
    "transform = transforms.Compose([\n",
    "    transforms.Resize((256,256), interpolation=Image.BICUBIC),transforms.ToTensor(),\n",
    "    transforms.Normalize((0.5, 0.5, 0.5),(0.5, 0.5, 0.5))\n",
    "])"
   ]
  },
  {
   "cell_type": "code",
   "execution_count": 4,
   "id": "422a27f1",
   "metadata": {},
   "outputs": [],
   "source": [
    "# input and output directories\n",
    "input_path = 'C:/Users/itayg/Documents/MonetGAN/Data/photo_jpg'\n",
    "output_path = 'C:/Users/itayg/Documents/MonetGAN/Data/monet_generated'"
   ]
  },
  {
   "cell_type": "code",
   "execution_count": 5,
   "id": "6a693413",
   "metadata": {},
   "outputs": [],
   "source": [
    "def denormalize(tensor):\n",
    "    \"\"\"\n",
    "    Converts a tensor from [-1, 1] to [0, 1] for display.\n",
    "    Expects tensor shape (C, H, W) or (B, C, H, W).\n",
    "    \"\"\"\n",
    "    tensor = tensor * 0.5 + 0.5\n",
    "    return tensor.clamp(0, 1)"
   ]
  },
  {
   "cell_type": "code",
   "execution_count": 11,
   "id": "81e915b4",
   "metadata": {},
   "outputs": [],
   "source": [
    "device = torch.device('cuda' if torch.cuda.is_available() else 'cpu')\n",
    "G_A2B = Generator().to(device)\n",
    "G_A2B.load_state_dict(torch.load('generator_photo2monet_epoch195_identity_1.5.pth'))\n",
    "G_A2B.eval();"
   ]
  },
  {
   "cell_type": "code",
   "execution_count": null,
   "id": "3bfad291",
   "metadata": {},
   "outputs": [
    {
     "ename": "NameError",
     "evalue": "name 'img_path' is not defined",
     "output_type": "error",
     "traceback": [
      "\u001b[1;31m---------------------------------------------------------------------------\u001b[0m",
      "\u001b[1;31mNameError\u001b[0m                                 Traceback (most recent call last)",
      "Cell \u001b[1;32mIn[10], line 3\u001b[0m\n\u001b[0;32m      1\u001b[0m \u001b[38;5;28;01mfor\u001b[39;00m i \u001b[38;5;129;01min\u001b[39;00m \u001b[38;5;28mrange\u001b[39m (\u001b[38;5;241m300\u001b[39m):\n\u001b[1;32m----> 3\u001b[0m     image \u001b[38;5;241m=\u001b[39m Image\u001b[38;5;241m.\u001b[39mopen(\u001b[43mimg_path\u001b[49m)\u001b[38;5;241m.\u001b[39mconvert(\u001b[38;5;124m'\u001b[39m\u001b[38;5;124mRGB\u001b[39m\u001b[38;5;124m'\u001b[39m)\n\u001b[0;32m      4\u001b[0m     input_tensor \u001b[38;5;241m=\u001b[39m transform(image)\u001b[38;5;241m.\u001b[39munsqueeze(\u001b[38;5;241m0\u001b[39m)\u001b[38;5;241m.\u001b[39mto(device)\n\u001b[0;32m      6\u001b[0m     \u001b[38;5;28;01mwith\u001b[39;00m torch\u001b[38;5;241m.\u001b[39mno_grad():\n",
      "\u001b[1;31mNameError\u001b[0m: name 'img_path' is not defined"
     ]
    }
   ],
   "source": [
    "images = tqdm(os.listdir(input_path)):300\n",
    "\n",
    "for img in tqdm(images):\n",
    "    if img.lower().endswith(('.jpg')):\n",
    "        img_path = os.path.join(input_path, img)\n",
    "\n",
    "        image = Image.open(img_path).convert('RGB')\n",
    "        input_tensor = transform(image).unsqueeze(0).to(device)\n",
    "\n",
    "        with torch.no_grad():\n",
    "            output_tensor = G_A2B(input_tensor)\n",
    "\n",
    "        output_tensor = denormalize(output_tensor.squeeze(0)).clamp(0, 1)\n",
    "        save_image(output_tensor, os.path.join(output_path, img))\n",
    "\n",
    "print ('All images were generated and saved in:', output_path)"
   ]
  },
  {
   "cell_type": "code",
   "execution_count": null,
   "id": "826f46b6",
   "metadata": {},
   "outputs": [],
   "source": [
    "import torch\n",
    "import matplotlib.pyplot as plt\n",
    "\n",
    "def show_generated_samples(generator, real_photo, epoch):\n",
    "    generator.eval()  # Set the generator to evaluation mode\n",
    "    with torch.no_grad():\n",
    "        fake_monet = generator(real_photo.to(device))  # Generate Monet-style image\n",
    "\n",
    "    # Get first image in batch\n",
    "    real_photo = real_photo[0].cpu().detach()\n",
    "    fake_monet = fake_monet[0].cpu().detach()\n",
    "\n",
    "    # De-normalize from [-1, 1] → [0, 1]\n",
    "    real_photo = denormalize(real_photo).permute(1, 2, 0)\n",
    "    fake_monet = denormalize(fake_monet).permute(1, 2, 0)\n",
    "\n",
    "    # Plot images side by side\n",
    "    fig, ax = plt.subplots(1, 2, figsize=(8, 4))\n",
    "    ax[0].imshow(real_photo.numpy())\n",
    "    ax[0].set_title(\"Real Photo\")\n",
    "    ax[0].axis(\"off\")\n",
    "\n",
    "    ax[1].imshow(fake_monet.numpy())\n",
    "    ax[1].set_title(f\"Generated Monet (Epoch {epoch})\")\n",
    "    ax[1].axis(\"off\")\n",
    "\n",
    "    plt.tight_layout()"
   ]
  },
  {
   "cell_type": "code",
   "execution_count": null,
   "id": "5293d0e7",
   "metadata": {},
   "outputs": [],
   "source": [
    "from PIL import Image\n",
    "\n",
    "test_input_path = 'C:/Users/itayg/Documents/MonetGAN/Data/photo_jpg/dd036adfe5.jpg'\n",
    "test_input = Image.open(test_input_path).convert('RGB')\n",
    "transform = transforms.Compose([\n",
    "    transforms.ToTensor(),\n",
    "    transforms.Normalize((0.5), (0.5), (0.5))\n",
    "])\n",
    "test_input = transform(test_input).unsqueeze(0)\n",
    "test_input = test_input.to(device)\n",
    "show_generated_samples(G_A2B, test_input, 4.5)"
   ]
  }
 ],
 "metadata": {
  "kernelspec": {
   "display_name": "Python 3",
   "language": "python",
   "name": "python3"
  },
  "language_info": {
   "codemirror_mode": {
    "name": "ipython",
    "version": 3
   },
   "file_extension": ".py",
   "mimetype": "text/x-python",
   "name": "python",
   "nbconvert_exporter": "python",
   "pygments_lexer": "ipython3",
   "version": "3.11.9"
  }
 },
 "nbformat": 4,
 "nbformat_minor": 5
}
