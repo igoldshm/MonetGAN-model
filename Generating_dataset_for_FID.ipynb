{
 "cells": [
  {
   "cell_type": "code",
   "execution_count": 1,
   "id": "bb4ab7e5",
   "metadata": {},
   "outputs": [],
   "source": [
    "# Imports\n",
    "import os\n",
    "import torch\n",
    "from torchvision import transforms\n",
    "from torchvision.utils import save_image\n",
    "from PIL import Image\n",
    "from tqdm import tqdm"
   ]
  },
  {
   "cell_type": "code",
   "execution_count": 2,
   "id": "a5a6addf",
   "metadata": {},
   "outputs": [],
   "source": [
    "# Generator class\n",
    "import torch.nn as nn\n",
    "\n",
    "class ResBlock(nn.Module):\n",
    "    def __init__(self, channels):\n",
    "        super(ResBlock, self).__init__()\n",
    "        self.block = nn.Sequential(\n",
    "            nn.Conv2d(channels, channels, kernel_size=3, padding=1),\n",
    "            nn.InstanceNorm2d(channels),\n",
    "            nn.ReLU(inplace=True),\n",
    "            nn.Conv2d(channels, channels, kernel_size=3, padding=1),\n",
    "            nn.InstanceNorm2d(channels),\n",
    "        )\n",
    "\n",
    "    def forward(self, x):\n",
    "        return x + self.block(x)\n",
    "\n",
    "class Generator(nn.Module):\n",
    "    def __init__(self):\n",
    "        super(Generator, self).__init__()\n",
    "        \n",
    "        # Encoder\n",
    "        self.encoder = nn.Sequential(\n",
    "            nn.ReflectionPad2d(3),\n",
    "            nn.Conv2d(3, 64, kernel_size=7, stride=1, padding=0),\n",
    "            nn.InstanceNorm2d(64),\n",
    "            nn.ReLU(inplace=True),\n",
    "\n",
    "            nn.Conv2d(64, 128, kernel_size=3, stride=2, padding=1),\n",
    "            nn.InstanceNorm2d(128),\n",
    "            nn.ReLU(inplace=True),\n",
    "            \n",
    "            nn.Conv2d(128, 256, kernel_size=3, stride=2, padding=1),\n",
    "            nn.InstanceNorm2d(256),\n",
    "            nn.ReLU(inplace=True),\n",
    "        )\n",
    "\n",
    "        # ResNet blocks\n",
    "        self.resnet_blocks = nn.Sequential(*[ResBlock(256) for _ in range(9)])\n",
    "\n",
    "        # Decoder\n",
    "        self.decoder = nn.Sequential(\n",
    "            nn.ConvTranspose2d(256, 128, kernel_size=3, stride=2, padding=1, output_padding=1),\n",
    "            nn.InstanceNorm2d(128),\n",
    "            nn.ReLU(inplace=True),\n",
    "\n",
    "            nn.ConvTranspose2d(128, 64, kernel_size=3, stride=2, padding=1, output_padding=1),\n",
    "            nn.InstanceNorm2d(64),\n",
    "            nn.ReLU(inplace=True),\n",
    "\n",
    "            nn.ReflectionPad2d(3),\n",
    "            nn.Conv2d(64, 3, kernel_size=7, stride=1, padding=0),\n",
    "            nn.Tanh()\n",
    "        )\n",
    "\n",
    "    def forward(self, x):\n",
    "        x = self.encoder(x)\n",
    "        x = self.resnet_blocks(x)\n",
    "        x = self.decoder(x)\n",
    "        return x"
   ]
  },
  {
   "cell_type": "code",
   "execution_count": 3,
   "id": "48681c7c",
   "metadata": {},
   "outputs": [
    {
     "name": "stderr",
     "output_type": "stream",
     "text": [
      "c:\\Users\\itayg\\miniconda3\\envs\\torch\\lib\\site-packages\\torchvision\\transforms\\transforms.py:287: UserWarning: Argument interpolation should be of type InterpolationMode instead of int. Please, use InterpolationMode enum.\n",
      "  warnings.warn(\n"
     ]
    }
   ],
   "source": [
    "transform = transforms.Compose([\n",
    "    transforms.Resize((256,256), interpolation=Image.BICUBIC),transforms.ToTensor(),\n",
    "    transforms.Normalize((0.5, 0.5, 0.5),(0.5, 0.5, 0.5))\n",
    "])"
   ]
  },
  {
   "cell_type": "code",
   "execution_count": 4,
   "id": "5069a57c",
   "metadata": {},
   "outputs": [],
   "source": [
    "input_path = 'C:/Users/itayg/Documents/MonetGAN/Data/monet_jpg'\n",
    "output_path = 'C:/Users/itayg/Documents/MonetGAN/Data/monet_generated_no_VGG'"
   ]
  },
  {
   "cell_type": "code",
   "execution_count": null,
   "id": "541e701b",
   "metadata": {},
   "outputs": [],
   "source": [
    "input_path = 'C:/Users/itayg/Documents/MonetGAN/Data/photo_jpg'\n",
    "output_path = 'C:/Users/itayg/Documents/MonetGAN/data/monet_generated_no_VGG/class'"
   ]
  },
  {
   "cell_type": "code",
   "execution_count": null,
   "id": "f7f251d3",
   "metadata": {},
   "outputs": [],
   "source": [
    "def denormalize(tensor):\n",
    "    \"\"\"\n",
    "    Converts a tensor from [-1, 1] to [0, 1] for display.\n",
    "    Expects tensor shape (C, H, W) or (B, C, H, W).\n",
    "    \"\"\"\n",
    "    tensor = tensor * 0.5 + 0.5\n",
    "    return tensor.clamp(0, 1)"
   ]
  },
  {
   "cell_type": "code",
   "execution_count": null,
   "id": "b45f04b2",
   "metadata": {},
   "outputs": [],
   "source": [
    "device = torch.device('cuda' if torch.cuda.is_available() else 'cpu')\n",
    "G_A2B = Generator().to(device)\n",
    "G_A2B.load_state_dict(torch.load('generator_photo2monet_epoch195_identity_1.5.pth'))\n",
    "G_A2B.eval();"
   ]
  },
  {
   "cell_type": "code",
   "execution_count": null,
   "id": "d5440817",
   "metadata": {},
   "outputs": [],
   "source": [
    "images = os.listdir(input_path)[:300]\n",
    "\n",
    "for img in tqdm(images):\n",
    "    if img.lower().endswith(('.jpg')):\n",
    "        img_path = os.path.join(input_path, img)\n",
    "\n",
    "        image = Image.open(img_path).convert('RGB')\n",
    "        input_tensor = transform(image).unsqueeze(0).to(device)\n",
    "\n",
    "        with torch.no_grad():\n",
    "            output_tensor = G_A2B(input_tensor)\n",
    "\n",
    "        output_tensor = denormalize(output_tensor.squeeze(0)).clamp(0, 1)\n",
    "        save_image(output_tensor, os.path.join(output_path, img))\n",
    "\n",
    "print ('All images were generated and saved in:', output_path)"
   ]
  },
  {
   "cell_type": "code",
   "execution_count": null,
   "id": "ea0fe70a",
   "metadata": {},
   "outputs": [],
   "source": [
    "import torch\n",
    "import matplotlib.pyplot as plt\n",
    "\n",
    "def show_generated_samples(generator, real_photo, epoch):\n",
    "    generator.eval()  # Set the generator to evaluation mode\n",
    "    with torch.no_grad():\n",
    "        fake_monet = generator(real_photo.to(device))  # Generate Monet-style image\n",
    "\n",
    "    # Get first image in batch\n",
    "    real_photo = real_photo[0].cpu().detach()\n",
    "    fake_monet = fake_monet[0].cpu().detach()\n",
    "\n",
    "    # De-normalize from [-1, 1] → [0, 1]\n",
    "    real_photo = denormalize(real_photo).permute(1, 2, 0)\n",
    "    fake_monet = denormalize(fake_monet).permute(1, 2, 0)\n",
    "\n",
    "    # Plot images side by side\n",
    "    fig, ax = plt.subplots(1, 2, figsize=(8, 4))\n",
    "    ax[0].imshow(real_photo.numpy())\n",
    "    ax[0].set_title(\"Real Photo\")\n",
    "    ax[0].axis(\"off\")\n",
    "\n",
    "    ax[1].imshow(fake_monet.numpy())\n",
    "    ax[1].set_title(f\"Generated Monet (Epoch {epoch})\")\n",
    "    ax[1].axis(\"off\")\n",
    "\n",
    "    plt.tight_layout()"
   ]
  },
  {
   "cell_type": "code",
   "execution_count": null,
   "id": "8579f933",
   "metadata": {},
   "outputs": [],
   "source": [
    "import sys\n",
    "!{sys.executable} -m pip install torchmetrics\n"
   ]
  },
  {
   "cell_type": "code",
   "execution_count": null,
   "id": "33aebb7b",
   "metadata": {},
   "outputs": [],
   "source": [
    "torch.cuda.empty_cache()"
   ]
  },
  {
   "cell_type": "code",
   "execution_count": 6,
   "id": "8b555c27",
   "metadata": {},
   "outputs": [
    {
     "name": "stdout",
     "output_type": "stream",
     "text": [
      "FID Score: 127.2188\n"
     ]
    }
   ],
   "source": [
    "import torch\n",
    "from torchvision import transforms, datasets\n",
    "from torch.utils.data import DataLoader\n",
    "from torchmetrics.image.fid import FrechetInceptionDistance\n",
    "from PIL import Image\n",
    "import os\n",
    "\n",
    "# ----------- FIX 1: Typo in \"cuda\" -----------\n",
    "device = torch.device(\"cuda\" if torch.cuda.is_available() else \"cpu\")\n",
    "\n",
    "# ----------- FIX 2: Incorrect \"transforms.compose\" (should be Compose with capital C) -----------\n",
    "transform = transforms.Compose([\n",
    "    transforms.Resize((299, 299)),\n",
    "    transforms.ToTensor(),\n",
    "    transforms.Lambda(lambda x: (x*255).byte())\n",
    "])\n",
    "\n",
    "# ----------- Datasets -----------\n",
    "real_dataset = datasets.ImageFolder(root=input_path, transform=transform)\n",
    "fake_dataset = datasets.ImageFolder(root=output_path,transform=transform)\n",
    "# ----------- Dataloaders -----------\n",
    "real_loader = DataLoader(real_dataset, batch_size=16, shuffle=False)\n",
    "fake_loader = DataLoader(fake_dataset, batch_size=16, shuffle=False)\n",
    "\n",
    "fid = FrechetInceptionDistance(feature=2048).to(device)\n",
    "\n",
    "\n",
    "# ----------- Process real images -----------\n",
    "for imgs, _ in real_loader:\n",
    "    imgs = imgs.to(device)\n",
    "    fid.update(imgs, real=True)\n",
    "\n",
    "# ----------- Process fake images -----------\n",
    "for imgs, _ in fake_loader:\n",
    "    imgs = imgs.to(device)\n",
    "    fid.update(imgs, real=False)\n",
    "\n",
    "# ----------- Calculate FID -----------\n",
    "fid_score = fid.compute()\n",
    "\n",
    "print(f\"FID Score: {fid_score.item():.4f}\")\n"
   ]
  }
 ],
 "metadata": {
  "kernelspec": {
   "display_name": "Python 3.8 (pytorch)",
   "language": "python",
   "name": "pytorch"
  },
  "language_info": {
   "codemirror_mode": {
    "name": "ipython",
    "version": 3
   },
   "file_extension": ".py",
   "mimetype": "text/x-python",
   "name": "python",
   "nbconvert_exporter": "python",
   "pygments_lexer": "ipython3",
   "version": "3.8.12"
  }
 },
 "nbformat": 4,
 "nbformat_minor": 5
}
