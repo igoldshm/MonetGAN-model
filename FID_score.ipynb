{
 "cells": [
  {
   "cell_type": "code",
   "execution_count": null,
   "id": "262ef488",
   "metadata": {},
   "outputs": [],
   "source": [
    "import torch\n",
    "from torchvision import transforms, datasets\n",
    "from torch.utils.data import DataLoader \n",
    "from torchmetrics.image.fid import FrechetInceptionDistance\n",
    "from PIL import Image\n",
    "import os"
   ]
  },
  {
   "cell_type": "code",
   "execution_count": null,
   "id": "315af6f6",
   "metadata": {},
   "outputs": [],
   "source": [
    "# Settings\n",
    "device = torch.device(\"cude\" if torch.cuda.is_available() else \"cpu\")\n",
    "real_monet_dir = 'C:\\Users\\itayg\\Documents\\MonetGAN\\Data\\monet_jpg'\n",
    "generated_monet_dir = 'C:\\Users\\itayg\\Documents\\MonetGAN\\Data\\monet_generated' "
   ]
  },
  {
   "cell_type": "code",
   "execution_count": null,
   "id": "fedbc5db",
   "metadata": {},
   "outputs": [],
   "source": [
    "# Image transform (to match inception input)\n",
    "transform = transforms.compose([\n",
    "    transforms.Resize((299, 299)),\n",
    "    transforms.ToTensor(),\n",
    "])"
   ]
  },
  {
   "cell_type": "code",
   "execution_count": null,
   "id": "076618af",
   "metadata": {},
   "outputs": [],
   "source": []
  }
 ],
 "metadata": {
  "kernelspec": {
   "display_name": "Python 3",
   "language": "python",
   "name": "python3"
  },
  "language_info": {
   "name": "python",
   "version": "3.11.9"
  }
 },
 "nbformat": 4,
 "nbformat_minor": 5
}
